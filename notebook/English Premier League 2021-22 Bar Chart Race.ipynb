{
 "cells": [
  {
   "cell_type": "markdown",
   "id": "5f3d631f",
   "metadata": {},
   "source": [
    "# English Premier League 2021/22 Bar Chart Race"
   ]
  },
  {
   "cell_type": "markdown",
   "id": "a623768b",
   "metadata": {},
   "source": [
    "The aim of this project is to visualise the entire EPL 2021/22 season using animated bar chart race.  "
   ]
  },
  {
   "cell_type": "markdown",
   "id": "505bf9fd",
   "metadata": {},
   "source": [
    "## 1. Import libraries"
   ]
  },
  {
   "cell_type": "code",
   "execution_count": null,
   "id": "9916b9eb",
   "metadata": {},
   "outputs": [],
   "source": [
    "import bar_chart_race as bcr\n",
    "import pandas as pd"
   ]
  },
  {
   "cell_type": "markdown",
   "id": "0bbf2995",
   "metadata": {},
   "source": [
    "## 2. Load raw dataset"
   ]
  },
  {
   "cell_type": "markdown",
   "id": "e534ec64",
   "metadata": {},
   "source": [
    "We will be using data from [Football-Data](https://www.football-data.co.uk/), which is a \"free football betting portal providing historical results & odds to help football betting enthusiasts analyse many years of data quickly\". "
   ]
  },
  {
   "cell_type": "code",
   "execution_count": null,
   "id": "4a99efda",
   "metadata": {},
   "outputs": [],
   "source": [
    "raw_df = pd.read_csv(\"https://www.football-data.co.uk/mmz4281/2122/E0.csv\", parse_dates=['Date'], dayfirst=True)\n",
    "raw_df = raw_df[['Date', 'Time', 'HomeTeam', 'AwayTeam', 'FTHG', 'FTAG', 'FTR']]\n",
    "raw_df.tail()"
   ]
  },
  {
   "cell_type": "code",
   "execution_count": null,
   "id": "f3c6b370",
   "metadata": {},
   "outputs": [],
   "source": [
    "raw_df.tail()"
   ]
  },
  {
   "cell_type": "markdown",
   "id": "00864f0d",
   "metadata": {},
   "source": [
    "## 3. Wrangle data into \"wide\" format"
   ]
  },
  {
   "cell_type": "markdown",
   "id": "65efde89",
   "metadata": {},
   "source": [
    "We need to wrangle the raw data in `raw_df` DataFrame into a format that is necessary before the `bar_chart_race` package can be used. According to its [documentation](https://github.com/dexplo/bar_chart_race#:~:text=Must%20begin%20with%20a%20pandas%20DataFrame%20containing%20%27wide%27%20data%20where%3A), the data must be in the following format:  \n",
    "\n",
    "- Every row represents a single period of time\n",
    "- Each column holds the value for a particular category\n",
    "- The index contains the time component (optional)"
   ]
  },
  {
   "cell_type": "code",
   "execution_count": null,
   "id": "a6c21391",
   "metadata": {},
   "outputs": [],
   "source": [
    "def get_hometeam_points(result):\n",
    "    \"\"\"Compute points awarded given a particular result:\n",
    "    - 3 points for a win;\n",
    "    - 1 point for a draw;\n",
    "    - 0 point for a loss.\n",
    "    \"\"\"\n",
    "    if result == 'H':\n",
    "        return 3\n",
    "    elif result == 'A':\n",
    "        return 0\n",
    "    elif result == 'D':\n",
    "        return 1\n",
    "    \n",
    "def get_awayteam_points(result):\n",
    "    \"\"\"Compute points awarded given a particular result:\n",
    "    - 3 points for a win;\n",
    "    - 1 point for a draw;\n",
    "    - 0 point for a loss.\n",
    "    \"\"\"\n",
    "    if result == 'A':\n",
    "        return 3\n",
    "    elif result == 'H':\n",
    "        return 0\n",
    "    elif result == 'D':\n",
    "        return 1\n",
    "    \n",
    "raw_df.loc[:, 'HomeTeam_Points'] = raw_df['FTR'].apply(get_hometeam_points)\n",
    "raw_df.loc[:, 'AwayTeam_Points'] = raw_df['FTR'].apply(get_awayteam_points)\n",
    "raw_df.tail()"
   ]
  },
  {
   "cell_type": "code",
   "execution_count": null,
   "id": "9155ea57",
   "metadata": {},
   "outputs": [],
   "source": [
    "# Select relevant columns only\n",
    "df1 = raw_df[['Date', 'HomeTeam', 'AwayTeam', 'HomeTeam_Points', 'AwayTeam_Points']]\n",
    "\n",
    "# Pivot `df1` so each row correspond to each team\n",
    "df2 = pd.melt(df1, id_vars=['Date'], value_vars=['HomeTeam', 'AwayTeam'], value_name='Team')\n",
    "\n",
    "# Pivot `df1` so each row correspond to each point\n",
    "df3 = pd.melt(df1, id_vars=['Date'], value_vars=['HomeTeam_Points', 'AwayTeam_Points'], value_name='Points')\n",
    "\n",
    "# Put `df2` and `df3` side by side\n",
    "df4 = pd.concat([df2, df3], axis=1)\n",
    "\n",
    "# Select `Date`, `Team` and `Points` columns only \n",
    "df5 = df4.iloc[:, [0, 2, 5]]\n",
    "\n",
    "# Pivot `df5`, so teams are in columns and rows are each timestamp\n",
    "df6 = pd.pivot(df5, index='Date', columns='Team', values='Points')\n",
    "\n",
    "# Fill NaN with 0\n",
    "df6.fillna(0, inplace=True)\n",
    "\n",
    "# Get `Date` from the index\n",
    "df6.reset_index(inplace=True) \n",
    "\n",
    "# Group points by week\n",
    "df6 = df6.groupby(pd.Grouper(key='Date', freq='W')).sum()\n",
    "\n",
    "# Do a cumulative sum\n",
    "df7 = df6.cumsum()\n",
    "\n",
    "df7"
   ]
  },
  {
   "cell_type": "markdown",
   "id": "84940055",
   "metadata": {},
   "source": [
    "## 4. Create a bar chart race using `bar_chart_race` package"
   ]
  },
  {
   "cell_type": "code",
   "execution_count": null,
   "id": "b4b2ea89",
   "metadata": {
    "scrolled": true
   },
   "outputs": [],
   "source": [
    "# help(bcr.bar_chart_race)"
   ]
  },
  {
   "cell_type": "code",
   "execution_count": null,
   "id": "eb147f29",
   "metadata": {},
   "outputs": [],
   "source": [
    "bcr.bar_chart_race(\n",
    "    df=df7, \n",
    "    filename='../output/epl_2122_race.gif',\n",
    "    n_bars=20, \n",
    "    fixed_order=False,\n",
    "    fixed_max=True,\n",
    "    steps_per_period=30, \n",
    "    period_length=700,\n",
    "    interpolate_period=True,\n",
    "    period_label={\n",
    "        'ha': 'right',\n",
    "        'va': 'center', \n",
    "        'weight': 'semibold',\n",
    "        'size': 35\n",
    "    },\n",
    "    period_template=\"%B %Y\",\n",
    "    colors=[\n",
    "            '#EF0107', '#95BFE5', '#E30613', '#0057B8', '#6C1D45', \n",
    "            '#034694', '#1B458F', '#003399', '#FFCD00', '#003090',\n",
    "            '#C8102E', '#6CABDD', '#DA291C', '#241F20', '#00A650', \n",
    "            '#D71920', '#132257', '#FBEE23', '#7A263A', '#FDB913'\n",
    "        ],\n",
    "    title={\n",
    "        'label': 'The 2021/22 English Premier League Season in 30 Seconds',\n",
    "        'size': 45,\n",
    "        'weight': 'bold',\n",
    "        'pad': 30\n",
    "    },\n",
    "    bar_size=0.70,\n",
    "    bar_textposition='inside',\n",
    "    bar_label_font={\n",
    "        'size': 15,\n",
    "        'family': 'DejaVu Sans',\n",
    "        'color': '#FFFFFF',\n",
    "        'weight': 'semibold'\n",
    "    }, \n",
    "    tick_label_font={\n",
    "        'size': 18,\n",
    "        'family': 'DejaVu Sans',\n",
    "        'color': '#7f7f7f',\n",
    "    }, \n",
    "    bar_kwargs={\n",
    "        'alpha': 0.8,\n",
    "    }, \n",
    "    fig_kwargs={\n",
    "        'figsize': (30, 16),\n",
    "        'dpi': 150,\n",
    "    }, \n",
    "    img_label_folder=\"../logos\", \n",
    "    tick_label_mode='mixed', \n",
    "    writer='imagemagick'\n",
    ")"
   ]
  },
  {
   "cell_type": "markdown",
   "id": "3c9ec9ec",
   "metadata": {},
   "source": [
    "## Useful resources:\n",
    "\n",
    "- Data source: https://www.football-data.co.uk/englandm.php\n",
    "- `bar_chart_race` documentation: https://www.dexplo.org/bar_chart_race/\n",
    "- `bar_chart_race` GitHub page: https://github.com/dexplo/bar_chart_race\n",
    "- Installation of ffmpeg: https://www.ffmpeg.org/download.html\n",
    "- Installation of ImageMagick: https://imagemagick.org/"
   ]
  }
 ],
 "metadata": {
  "kernelspec": {
   "display_name": "Python 3 (ipykernel)",
   "language": "python",
   "name": "python3"
  },
  "language_info": {
   "codemirror_mode": {
    "name": "ipython",
    "version": 3
   },
   "file_extension": ".py",
   "mimetype": "text/x-python",
   "name": "python",
   "nbconvert_exporter": "python",
   "pygments_lexer": "ipython3",
   "version": "3.8.8"
  }
 },
 "nbformat": 4,
 "nbformat_minor": 5
}
