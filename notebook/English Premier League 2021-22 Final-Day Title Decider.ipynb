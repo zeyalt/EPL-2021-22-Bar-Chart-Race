{
 "cells": [
  {
   "cell_type": "markdown",
   "id": "5f3d631f",
   "metadata": {},
   "source": [
    "# English Premier League 2021/22 Final-Day Title Decider"
   ]
  },
  {
   "cell_type": "markdown",
   "id": "a623768b",
   "metadata": {},
   "source": [
    "The aim of this project is to visualise the final-day title decider of the EPL 2021/22 season using animated bar chart race.  "
   ]
  },
  {
   "cell_type": "markdown",
   "id": "505bf9fd",
   "metadata": {},
   "source": [
    "## 1. Import libraries"
   ]
  },
  {
   "cell_type": "code",
   "execution_count": 1,
   "id": "9916b9eb",
   "metadata": {},
   "outputs": [],
   "source": [
    "import bar_chart_race as bcr\n",
    "import pandas as pd"
   ]
  },
  {
   "cell_type": "markdown",
   "id": "0bbf2995",
   "metadata": {},
   "source": [
    "## 2. Create DataFrame in \"wide\" format"
   ]
  },
  {
   "cell_type": "code",
   "execution_count": 2,
   "id": "92e9ba37",
   "metadata": {},
   "outputs": [
    {
     "data": {
      "text/html": [
       "<div>\n",
       "<style scoped>\n",
       "    .dataframe tbody tr th:only-of-type {\n",
       "        vertical-align: middle;\n",
       "    }\n",
       "\n",
       "    .dataframe tbody tr th {\n",
       "        vertical-align: top;\n",
       "    }\n",
       "\n",
       "    .dataframe thead th {\n",
       "        text-align: right;\n",
       "    }\n",
       "</style>\n",
       "<table border=\"1\" class=\"dataframe\">\n",
       "  <thead>\n",
       "    <tr style=\"text-align: right;\">\n",
       "      <th></th>\n",
       "      <th>Liverpool</th>\n",
       "      <th>Man City</th>\n",
       "    </tr>\n",
       "    <tr>\n",
       "      <th>Minute</th>\n",
       "      <th></th>\n",
       "      <th></th>\n",
       "    </tr>\n",
       "  </thead>\n",
       "  <tbody>\n",
       "    <tr>\n",
       "      <th>0</th>\n",
       "      <td>89</td>\n",
       "      <td>90</td>\n",
       "    </tr>\n",
       "    <tr>\n",
       "      <th>1</th>\n",
       "      <td>90</td>\n",
       "      <td>91</td>\n",
       "    </tr>\n",
       "    <tr>\n",
       "      <th>3</th>\n",
       "      <td>89</td>\n",
       "      <td>91</td>\n",
       "    </tr>\n",
       "    <tr>\n",
       "      <th>24</th>\n",
       "      <td>90</td>\n",
       "      <td>91</td>\n",
       "    </tr>\n",
       "    <tr>\n",
       "      <th>37</th>\n",
       "      <td>90</td>\n",
       "      <td>90</td>\n",
       "    </tr>\n",
       "    <tr>\n",
       "      <th>69</th>\n",
       "      <td>90</td>\n",
       "      <td>90</td>\n",
       "    </tr>\n",
       "    <tr>\n",
       "      <th>76</th>\n",
       "      <td>90</td>\n",
       "      <td>90</td>\n",
       "    </tr>\n",
       "    <tr>\n",
       "      <th>78</th>\n",
       "      <td>90</td>\n",
       "      <td>91</td>\n",
       "    </tr>\n",
       "    <tr>\n",
       "      <th>81</th>\n",
       "      <td>90</td>\n",
       "      <td>93</td>\n",
       "    </tr>\n",
       "    <tr>\n",
       "      <th>84</th>\n",
       "      <td>92</td>\n",
       "      <td>93</td>\n",
       "    </tr>\n",
       "    <tr>\n",
       "      <th>89</th>\n",
       "      <td>92</td>\n",
       "      <td>93</td>\n",
       "    </tr>\n",
       "    <tr>\n",
       "      <th>90</th>\n",
       "      <td>92</td>\n",
       "      <td>93</td>\n",
       "    </tr>\n",
       "  </tbody>\n",
       "</table>\n",
       "</div>"
      ],
      "text/plain": [
       "        Liverpool  Man City\n",
       "Minute                     \n",
       "0              89        90\n",
       "1              90        91\n",
       "3              89        91\n",
       "24             90        91\n",
       "37             90        90\n",
       "69             90        90\n",
       "76             90        90\n",
       "78             90        91\n",
       "81             90        93\n",
       "84             92        93\n",
       "89             92        93\n",
       "90             92        93"
      ]
     },
     "execution_count": 2,
     "metadata": {},
     "output_type": "execute_result"
    }
   ],
   "source": [
    "# Points that Liverpool and Man City had going into the final gameweek\n",
    "l_pts = 89\n",
    "m_pts = 90\n",
    "\n",
    "# Create a DataFrame showing how their points changed over the course of the 90 minutes\n",
    "df = pd.DataFrame({\n",
    "    'Minute': [0, 1, 3, 24, 37, 69, 76, 78, 81, 84, 89, 90], \n",
    "    'Liverpool': [l_pts, l_pts+1, l_pts, l_pts+1, l_pts+1, l_pts+1, l_pts+1, l_pts+1, l_pts+1, l_pts+3, l_pts+3, l_pts+3], \n",
    "    'Man City': [m_pts, m_pts+1, m_pts+1, m_pts+1, m_pts, m_pts, m_pts, m_pts+1, m_pts+3, m_pts+3, m_pts+3, m_pts+3]\n",
    "})\n",
    "\n",
    "# Set `Minute` as the index\n",
    "df.set_index(\"Minute\", inplace=True)\n",
    "\n",
    "# Sanity check\n",
    "df"
   ]
  },
  {
   "cell_type": "markdown",
   "id": "84940055",
   "metadata": {},
   "source": [
    "## 4. Create a bar chart race using `bar_chart_race` package"
   ]
  },
  {
   "cell_type": "code",
   "execution_count": 3,
   "id": "64478db3",
   "metadata": {},
   "outputs": [],
   "source": [
    "# help(bcr.bar_chart_race)"
   ]
  },
  {
   "cell_type": "code",
   "execution_count": 4,
   "id": "41ca5611",
   "metadata": {},
   "outputs": [],
   "source": [
    "bcr.bar_chart_race(\n",
    "    df=df, \n",
    "    filename='../output/epl_2122_final_day_title_decider.mp4',\n",
    "    fixed_order=True,\n",
    "    fixed_max=False,\n",
    "    steps_per_period=20, \n",
    "    period_length=1500,\n",
    "    interpolate_period=True,\n",
    "    period_label={\n",
    "        'family': 'DejaVu Sans',\n",
    "        'color': 'white',\n",
    "        'backgroundcolor': 'black',\n",
    "        'x': .98,\n",
    "        'y': .1,\n",
    "        'weight': 'semibold',\n",
    "        'size': 24,\n",
    "    },\n",
    "    period_template='{x:.0f}:00',\n",
    "    colors=['#6CABDD', '#C8102E'],\n",
    "    title={\n",
    "        'family': 'DejaVu Sans',\n",
    "        'label': '2021/22 EPL Final-Day Title Decider:\\nMinute by Minute',\n",
    "        'size': 24,\n",
    "        'weight': 'semibold',\n",
    "        'pad': 20\n",
    "    },\n",
    "    bar_size=0.55,\n",
    "    bar_textposition='inside',\n",
    "    bar_label_font={\n",
    "        'size': 16,\n",
    "        'family': 'DejaVu Sans',\n",
    "        'color': '#FFFFFF',\n",
    "        'weight': 'semibold'\n",
    "    }, \n",
    "    tick_label_font={\n",
    "        'size': 18,\n",
    "        'family': 'DejaVu Sans',\n",
    "        'color': '#7f7f7f',\n",
    "    }, \n",
    "    bar_kwargs={\n",
    "        'alpha': 0.8,\n",
    "    }, \n",
    "    fig_kwargs={\n",
    "        'figsize': (14, 9),\n",
    "        'dpi': 200,\n",
    "    }, \n",
    "    img_label_folder=\"../logos_top_two\", \n",
    "    tick_label_mode='mixed', \n",
    ")"
   ]
  },
  {
   "cell_type": "markdown",
   "id": "3c9ec9ec",
   "metadata": {},
   "source": [
    "## Useful resources:\n",
    "\n",
    "- `bar_chart_race` documentation: https://www.dexplo.org/bar_chart_race/\n",
    "- `bar_chart_race` GitHub page: https://github.com/dexplo/bar_chart_race\n",
    "- Installation of ffmpeg: https://www.ffmpeg.org/download.html\n",
    "- Installation of ImageMagick: https://imagemagick.org/"
   ]
  }
 ],
 "metadata": {
  "kernelspec": {
   "display_name": "Python 3 (ipykernel)",
   "language": "python",
   "name": "python3"
  },
  "language_info": {
   "codemirror_mode": {
    "name": "ipython",
    "version": 3
   },
   "file_extension": ".py",
   "mimetype": "text/x-python",
   "name": "python",
   "nbconvert_exporter": "python",
   "pygments_lexer": "ipython3",
   "version": "3.8.8"
  }
 },
 "nbformat": 4,
 "nbformat_minor": 5
}
